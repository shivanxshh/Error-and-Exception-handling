{
 "cells": [
  {
   "cell_type": "markdown",
   "metadata": {},
   "source": [
    "# error and exception handling"
   ]
  },
  {
   "cell_type": "code",
   "execution_count": 6,
   "metadata": {},
   "outputs": [
    {
     "ename": "SyntaxError",
     "evalue": "invalid syntax (<ipython-input-6-0ea4f0b88e3d>, line 1)",
     "output_type": "error",
     "traceback": [
      "\u001b[1;36m  File \u001b[1;32m\"<ipython-input-6-0ea4f0b88e3d>\"\u001b[1;36m, line \u001b[1;32m1\u001b[0m\n\u001b[1;33m    a=(abs))\u001b[0m\n\u001b[1;37m           ^\u001b[0m\n\u001b[1;31mSyntaxError\u001b[0m\u001b[1;31m:\u001b[0m invalid syntax\n"
     ]
    }
   ],
   "source": [
    "a=(abs))"
   ]
  },
  {
   "cell_type": "code",
   "execution_count": 7,
   "metadata": {},
   "outputs": [
    {
     "ename": "ZeroDivisionError",
     "evalue": "division by zero",
     "output_type": "error",
     "traceback": [
      "\u001b[1;31m---------------------------------------------------------------------------\u001b[0m",
      "\u001b[1;31mZeroDivisionError\u001b[0m                         Traceback (most recent call last)",
      "\u001b[1;32m<ipython-input-7-e574edb36883>\u001b[0m in \u001b[0;36m<module>\u001b[1;34m\u001b[0m\n\u001b[1;32m----> 1\u001b[1;33m \u001b[1;36m10\u001b[0m\u001b[1;33m/\u001b[0m\u001b[1;36m0\u001b[0m\u001b[1;33m\u001b[0m\u001b[1;33m\u001b[0m\u001b[0m\n\u001b[0m",
      "\u001b[1;31mZeroDivisionError\u001b[0m: division by zero"
     ]
    }
   ],
   "source": [
    "10/0"
   ]
  },
  {
   "cell_type": "code",
   "execution_count": 8,
   "metadata": {},
   "outputs": [
    {
     "ename": "NameError",
     "evalue": "name 'b' is not defined",
     "output_type": "error",
     "traceback": [
      "\u001b[1;31m---------------------------------------------------------------------------\u001b[0m",
      "\u001b[1;31mNameError\u001b[0m                                 Traceback (most recent call last)",
      "\u001b[1;32m<ipython-input-8-cad0e8e95656>\u001b[0m in \u001b[0;36m<module>\u001b[1;34m\u001b[0m\n\u001b[1;32m----> 1\u001b[1;33m \u001b[0ma\u001b[0m\u001b[1;33m=\u001b[0m\u001b[0mb\u001b[0m\u001b[1;33m*\u001b[0m\u001b[1;36m4\u001b[0m\u001b[1;33m\u001b[0m\u001b[1;33m\u001b[0m\u001b[0m\n\u001b[0m",
      "\u001b[1;31mNameError\u001b[0m: name 'b' is not defined"
     ]
    }
   ],
   "source": [
    "a=b*4"
   ]
  },
  {
   "cell_type": "code",
   "execution_count": 9,
   "metadata": {},
   "outputs": [
    {
     "ename": "TypeError",
     "evalue": "can only concatenate str (not \"int\") to str",
     "output_type": "error",
     "traceback": [
      "\u001b[1;31m---------------------------------------------------------------------------\u001b[0m",
      "\u001b[1;31mTypeError\u001b[0m                                 Traceback (most recent call last)",
      "\u001b[1;32m<ipython-input-9-a3aed8f80391>\u001b[0m in \u001b[0;36m<module>\u001b[1;34m\u001b[0m\n\u001b[1;32m----> 1\u001b[1;33m \u001b[0ma\u001b[0m\u001b[1;33m=\u001b[0m\u001b[1;34m's'\u001b[0m\u001b[1;33m+\u001b[0m\u001b[1;36m4\u001b[0m\u001b[1;33m\u001b[0m\u001b[1;33m\u001b[0m\u001b[0m\n\u001b[0m",
      "\u001b[1;31mTypeError\u001b[0m: can only concatenate str (not \"int\") to str"
     ]
    }
   ],
   "source": [
    "a='s'+4"
   ]
  },
  {
   "cell_type": "code",
   "execution_count": null,
   "metadata": {},
   "outputs": [],
   "source": []
  },
  {
   "cell_type": "code",
   "execution_count": 7,
   "metadata": {},
   "outputs": [
    {
     "name": "stdout",
     "output_type": "stream",
     "text": [
      "enter the num5\n",
      "enter the deno0\n",
      "zerodenomerror is rasied\n",
      "enter the num5\n",
      "enter the deno2\n",
      "2.5\n"
     ]
    }
   ],
   "source": [
    "class zerodenomerror(Exception):\n",
    "    pass\n",
    "while True:\n",
    "        \n",
    "    \n",
    "\n",
    "    try:\n",
    "        \n",
    "        n=input('enter the num')\n",
    "        num=int(n)\n",
    "        n=input(\"enter the deno\")\n",
    "        deno=int(n)\n",
    "        if deno==0:         \n",
    "            raise zerodenomerror('denom can not be zero')     ##we can also raise the error by ourselves\n",
    "        result=num/deno\n",
    "        \n",
    "        print(result)\n",
    "        break\n",
    "    \n",
    "    except ValueError:\n",
    "        print('Numerator and denominator should be integer')\n",
    "        \n",
    "    except ZeroDivisionError:\n",
    "        print('Division by 0 is not possible')\n",
    "        \n",
    "    except zerodenomerror:\n",
    "        print('zerodenomerror is rasied')\n",
    "        "
   ]
  },
  {
   "cell_type": "code",
   "execution_count": 1,
   "metadata": {},
   "outputs": [
    {
     "name": "stdout",
     "output_type": "stream",
     "text": [
      "enter the num5\n",
      "enter the deno0\n",
      "Division by 0 is not possible\n",
      "exception may or may not be raised\n",
      "enter the num5\n",
      "enter the deno2\n",
      "2.5\n",
      "exception may or may not be raised\n"
     ]
    }
   ],
   "source": [
    "class zerodenomerror(ZeroDivisionError):\n",
    "    pass\n",
    "while True:\n",
    "        \n",
    "    \n",
    "\n",
    "    try:\n",
    "        \n",
    "        n=input('enter the num')\n",
    "        num=int(n)\n",
    "        n=input(\"enter the deno\")\n",
    "        deno=int(n)\n",
    "        if deno==0:         \n",
    "            raise zerodenomerror('denom can not be zero')     ##we can also raise the error by ourselves\n",
    "        result=num/deno\n",
    "        \n",
    "       \n",
    "    \n",
    "    except ValueError:\n",
    "        print('Numerator and denominator should be integer')\n",
    "        \n",
    "    except ZeroDivisionError:\n",
    "        print('Division by 0 is not possible')\n",
    "        \n",
    "    except zerodenomerror:\n",
    "        print('zerodenomerror is rasied')\n",
    "    except :\n",
    "        print('some error is raised')\n",
    "    \n",
    "    else:   ##if you don't get exception then else code will work\n",
    "         print(result)\n",
    "         break\n",
    "        \n",
    "    finally:           ##finally code will be executed doesn't matter if exception is raised or not \n",
    "        print('exception may or may not be raised')  "
   ]
  },
  {
   "cell_type": "code",
   "execution_count": 5,
   "metadata": {},
   "outputs": [
    {
     "name": "stdout",
     "output_type": "stream",
     "text": [
      "enter the num6\n",
      "enter the deno2\n",
      "3.0\n",
      "6\n",
      "2\n"
     ]
    },
    {
     "ename": "NameError",
     "evalue": "name 'value' is not defined",
     "output_type": "error",
     "traceback": [
      "\u001b[1;31m---------------------------------------------------------------------------\u001b[0m",
      "\u001b[1;31mNameError\u001b[0m                                 Traceback (most recent call last)",
      "\u001b[1;32m<ipython-input-5-c7cb5a552626>\u001b[0m in \u001b[0;36m<module>\u001b[1;34m\u001b[0m\n\u001b[0;32m     35\u001b[0m         \u001b[0mprint\u001b[0m\u001b[1;33m(\u001b[0m\u001b[0mnum\u001b[0m\u001b[1;33m)\u001b[0m\u001b[1;33m\u001b[0m\u001b[1;33m\u001b[0m\u001b[0m\n\u001b[0;32m     36\u001b[0m         \u001b[0mprint\u001b[0m\u001b[1;33m(\u001b[0m\u001b[0mdeno\u001b[0m\u001b[1;33m)\u001b[0m\u001b[1;33m\u001b[0m\u001b[1;33m\u001b[0m\u001b[0m\n\u001b[1;32m---> 37\u001b[1;33m         \u001b[0mprint\u001b[0m\u001b[1;33m(\u001b[0m\u001b[0mvalue\u001b[0m\u001b[1;33m)\u001b[0m\u001b[1;33m\u001b[0m\u001b[1;33m\u001b[0m\u001b[0m\n\u001b[0m\u001b[0;32m     38\u001b[0m         \u001b[0mprint\u001b[0m\u001b[1;33m(\u001b[0m\u001b[1;34m'exception may or may not be raised'\u001b[0m\u001b[1;33m)\u001b[0m\u001b[1;33m\u001b[0m\u001b[1;33m\u001b[0m\u001b[0m\n",
      "\u001b[1;31mNameError\u001b[0m: name 'value' is not defined"
     ]
    }
   ],
   "source": [
    "class zerodenomerror(ZeroDivisionError):\n",
    "    pass\n",
    "while True:\n",
    "        \n",
    "    \n",
    "\n",
    "    try:\n",
    "        \n",
    "        n=input('enter the num')\n",
    "        num=int(n)\n",
    "        n=input(\"enter the deno\")\n",
    "        deno=int(n)\n",
    "        if deno==0:         \n",
    "            raise zerodenomerror('denom can not be zero')     ##we can also raise the error by ourselves\n",
    "        result=num/deno\n",
    "        \n",
    "       \n",
    "    \n",
    "    except ValueError:\n",
    "        print('Numerator and denominator should be integer')\n",
    "        \n",
    "    except ZeroDivisionError:\n",
    "        print('Division by 0 is not possible')\n",
    "        \n",
    "    except zerodenomerror:\n",
    "        print('zerodenomerror is rasied')\n",
    "    except :\n",
    "        print('some error is raised')\n",
    "    \n",
    "    else:   ##if you don't get exception then else code will work\n",
    "         print(result)\n",
    "         break\n",
    "        \n",
    "    finally:           ##finally code will be executed doesn't matter if exception is raised or not \n",
    "        print(num)\n",
    "        print(deno)\n",
    "        print(value)\n",
    "        print('exception may or may not be raised')  "
   ]
  },
  {
   "cell_type": "code",
   "execution_count": null,
   "metadata": {},
   "outputs": [],
   "source": []
  }
 ],
 "metadata": {
  "kernelspec": {
   "display_name": "Python 3",
   "language": "python",
   "name": "python3"
  },
  "language_info": {
   "codemirror_mode": {
    "name": "ipython",
    "version": 3
   },
   "file_extension": ".py",
   "mimetype": "text/x-python",
   "name": "python",
   "nbconvert_exporter": "python",
   "pygments_lexer": "ipython3",
   "version": "3.7.6"
  }
 },
 "nbformat": 4,
 "nbformat_minor": 4
}
